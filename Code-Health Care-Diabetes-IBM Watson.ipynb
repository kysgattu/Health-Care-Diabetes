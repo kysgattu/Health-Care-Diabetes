{
 "cells": [
  {
   "cell_type": "code",
   "execution_count": 1,
   "metadata": {},
   "outputs": [],
   "source": [
    "import numpy as np\n",
    "import pandas as pd\n",
    "import matplotlib.pyplot as plt\n",
    "%matplotlib inline\n",
    "import seaborn as sns\n",
    "plt.style.use('bmh')"
   ]
  },
  {
   "cell_type": "code",
   "execution_count": 2,
   "metadata": {},
   "outputs": [
    {
     "ename": "ModuleNotFoundError",
     "evalue": "No module named 'botocore'",
     "output_type": "error",
     "traceback": [
      "\u001b[1;31m---------------------------------------------------------------------------\u001b[0m",
      "\u001b[1;31mModuleNotFoundError\u001b[0m                       Traceback (most recent call last)",
      "\u001b[1;32m<ipython-input-2-6aad02ada288>\u001b[0m in \u001b[0;36m<module>\u001b[1;34m()\u001b[0m\n\u001b[0;32m      3\u001b[0m \u001b[1;32mimport\u001b[0m \u001b[0mtypes\u001b[0m\u001b[1;33m\u001b[0m\u001b[0m\n\u001b[0;32m      4\u001b[0m \u001b[1;32mimport\u001b[0m \u001b[0mpandas\u001b[0m \u001b[1;32mas\u001b[0m \u001b[0mpd\u001b[0m\u001b[1;33m\u001b[0m\u001b[0m\n\u001b[1;32m----> 5\u001b[1;33m \u001b[1;32mfrom\u001b[0m \u001b[0mbotocore\u001b[0m\u001b[1;33m.\u001b[0m\u001b[0mclient\u001b[0m \u001b[1;32mimport\u001b[0m \u001b[0mConfig\u001b[0m\u001b[1;33m\u001b[0m\u001b[0m\n\u001b[0m\u001b[0;32m      6\u001b[0m \u001b[1;32mimport\u001b[0m \u001b[0mibm_boto3\u001b[0m\u001b[1;33m\u001b[0m\u001b[0m\n\u001b[0;32m      7\u001b[0m \u001b[1;33m\u001b[0m\u001b[0m\n",
      "\u001b[1;31mModuleNotFoundError\u001b[0m: No module named 'botocore'"
     ]
    }
   ],
   "source": [
    "\n",
    "import sys\n",
    "import types\n",
    "import pandas as pd\n",
    "from botocore.client import Config\n",
    "import ibm_boto3\n",
    "\n",
    "def __iter__(self): return 0\n",
    "\n",
    "# @hidden_cell\n",
    "# The following code accesses a file in your IBM Cloud Object Storage. It includes your credentials.\n",
    "# You might want to remove those credentials before you share your notebook.\n",
    "client_09c657f29b02424fa7490dd3b3e67651 = ibm_boto3.client(service_name='s3',\n",
    "    ibm_api_key_id='W4VUcZtgE-Ec0Ub6jkoreyGspLNLwSXL_Qfrlb_JN5aX',\n",
    "    ibm_auth_endpoint=\"https://iam.eu-gb.bluemix.net/oidc/token\",\n",
    "    config=Config(signature_version='oauth'),\n",
    "    endpoint_url='https://s3.eu-geo.objectstorage.service.networklayer.com')\n",
    "\n",
    "body = client_09c657f29b02424fa7490dd3b3e67651.get_object(Bucket='teamb304kamal-donotdelete-pr-wou516kxtnupfb',Key='diabetes.csv')['Body']\n",
    "# add missing __iter__ method, so pandas accepts body as file-like object\n",
    "if not hasattr(body, \"__iter__\"): body.__iter__ = types.MethodType( __iter__, body )\n",
    "\n",
    "df_data_1 = pd.read_csv(body)\n",
    "df_data_1.head()\n",
    "\n"
   ]
  },
  {
   "cell_type": "code",
   "execution_count": null,
   "metadata": {},
   "outputs": [],
   "source": [
    "df_data_1.info()"
   ]
  },
  {
   "cell_type": "code",
   "execution_count": null,
   "metadata": {},
   "outputs": [],
   "source": [
    "corr=df_data_1.corr()\n",
    "plt.figure(figsize=(10,4))\n",
    "sns.heatmap(corr,annot=True,cmap='summer')\n",
    "plt.show()"
   ]
  },
  {
   "cell_type": "code",
   "execution_count": null,
   "metadata": {},
   "outputs": [],
   "source": [
    "x=df_data_1.iloc[:,:-1].values # Independant variables\n",
    "y=df_data_1.iloc[:,-1].values #dependant variables\n",
    "x.shape,y.shape"
   ]
  },
  {
   "cell_type": "code",
   "execution_count": null,
   "metadata": {},
   "outputs": [],
   "source": [
    "plt.figure(figsize=(15,6))\n",
    "plt.boxplot(x,vert =False,labels=['Pregnancies','Glucose','Blood Pressure','Skin Thickness','Insulin','BMI','DPF','Age'],\n",
    "           patch_artist=True)\n",
    "plt.show()"
   ]
  },
  {
   "cell_type": "code",
   "execution_count": null,
   "metadata": {},
   "outputs": [],
   "source": [
    "from sklearn.preprocessing import  StandardScaler,MinMaxScaler\n",
    "sc=StandardScaler() #z-score\n",
    "mms=MinMaxScaler() #(0-1)->normalisation"
   ]
  },
  {
   "cell_type": "code",
   "execution_count": null,
   "metadata": {},
   "outputs": [],
   "source": [
    "x_sc =sc.fit_transform(x)\n",
    "x_norm=mms.fit_transform(x)"
   ]
  },
  {
   "cell_type": "code",
   "execution_count": null,
   "metadata": {},
   "outputs": [],
   "source": [
    "fig=plt.figure(figsize=(15,6))\n",
    "plt.style.use('bmh')\n",
    "\n",
    "# Without scaling\n",
    "plt.boxplot(x,vert=False,labels=['Pregnancies','Glucose','Blood Pressure','Skin Thickness','Insulin','BMI','DPF','Age'],patch_artist=True)\n",
    "plt.title('Without Scaling')\n",
    "plt.show()\n",
    "\n",
    "# Normalisation\n",
    "fig=plt.figure(figsize=(15,6))\n",
    "plt.boxplot(x_norm,vert=False,labels=['Pregnancies','Glucose','Blood Pressure','Skin Thickness','Insulin','BMI','DPF','Age'],patch_artist=True)\n",
    "plt.title('Normalisation(0-1)')\n",
    "plt.show()\n",
    "\n",
    "# Standard scaling\n",
    "fig=plt.figure(figsize=(15,6))\n",
    "plt.boxplot(x_sc,vert=False,labels=['Pregnancies','Glucose','Blood Pressure','Skin Thickness','Insulin','BMI','DPF','Age'],patch_artist=True)\n",
    "plt.title('Standard Scaling(Z-score)')\n",
    "plt.show()\n",
    "\n"
   ]
  },
  {
   "cell_type": "code",
   "execution_count": null,
   "metadata": {},
   "outputs": [],
   "source": [
    "from sklearn.cross_validation import train_test_split\n",
    "x_train,x_test,y_train,y_test=train_test_split(x_sc,y,test_size=0.2,random_state=0)\n",
    "x_train.shape,y_train.shape,x_test.shape,y_test.shape"
   ]
  },
  {
   "cell_type": "code",
   "execution_count": null,
   "metadata": {},
   "outputs": [],
   "source": [
    "from sklearn.linear_model import LogisticRegression\n",
    "from sklearn.neighbors import KNeighborsClassifier\n",
    "from sklearn.svm import SVC\n",
    "from sklearn.tree import DecisionTreeClassifier\n",
    "from sklearn.ensemble import RandomForestClassifier"
   ]
  },
  {
   "cell_type": "code",
   "execution_count": null,
   "metadata": {},
   "outputs": [],
   "source": [
    "model_log= LogisticRegression(C=10.0) # class\n",
    "model_knn= KNeighborsClassifier(n_neighbors=3)\n",
    "model_svm= SVC(kernel='rbf')\n",
    "model_dt= DecisionTreeClassifier()\n",
    "model_rf= RandomForestClassifier(n_estimators=100)"
   ]
  },
  {
   "cell_type": "code",
   "execution_count": null,
   "metadata": {},
   "outputs": [],
   "source": [
    "model_log.fit(x_train,y_train)\n",
    "model_knn.fit(x_train,y_train)\n",
    "model_svm.fit(x_train,y_train)\n",
    "model_dt.fit(x_train,y_train)\n",
    "model_rf.fit(x_train,y_train)\n",
    "print('Model trained successfully')"
   ]
  },
  {
   "cell_type": "code",
   "execution_count": null,
   "metadata": {},
   "outputs": [],
   "source": [
    "y_pred_log=model_log.predict(x_test)\n",
    "y_pred_knn=model_knn.predict(x_test)\n",
    "y_pred_svm=model_svm.predict(x_test)\n",
    "y_pred_dt=model_dt.predict(x_test)\n",
    "y_pred_rf=model_rf.predict(x_test)"
   ]
  },
  {
   "cell_type": "code",
   "execution_count": null,
   "metadata": {},
   "outputs": [],
   "source": [
    "print(y_pred_log)\n",
    "print(y_pred_knn)\n",
    "print(y_pred_svm)\n",
    "print(y_pred_dt)\n",
    "print(y_pred_rf)"
   ]
  },
  {
   "cell_type": "code",
   "execution_count": null,
   "metadata": {},
   "outputs": [],
   "source": [
    "from sklearn.metrics import confusion_matrix,classification_report"
   ]
  },
  {
   "cell_type": "code",
   "execution_count": null,
   "metadata": {},
   "outputs": [],
   "source": [
    "cm_log= confusion_matrix(y_test,y_pred_log)\n",
    "cm_knn= confusion_matrix(y_test,y_pred_knn)\n",
    "cm_svm= confusion_matrix(y_test,y_pred_svm)\n",
    "cm_dt= confusion_matrix(y_test,y_pred_dt)\n",
    "cm_rf= confusion_matrix(y_test,y_pred_rf)"
   ]
  },
  {
   "cell_type": "code",
   "execution_count": null,
   "metadata": {},
   "outputs": [],
   "source": [
    "sns.heatmap(cm_log,annot=True,cmap='summer')\n",
    "plt.title('Logistic Regression')\n",
    "plt.show()\n",
    "\n",
    "\n",
    "sns.heatmap(cm_knn,annot=True,cmap='prism')\n",
    "plt.title('K Nearest Neighbor ')\n",
    "plt.show()\n",
    "\n",
    "\n",
    "sns.heatmap(cm_svm,annot=True,cmap='brg',)\n",
    "plt.title('Support Vector Machine')\n",
    "plt.show()\n",
    "\n",
    "\n",
    "sns.heatmap(cm_dt,annot=True,cmap='jet',)\n",
    "plt.title('Decision Tree')\n",
    "plt.show()\n",
    "\n",
    "\n",
    "sns.heatmap(cm_rf,annot=True,cmap='gnuplot',)\n",
    "plt.title('Random Forest Tree')\n",
    "plt.show()"
   ]
  },
  {
   "cell_type": "code",
   "execution_count": null,
   "metadata": {},
   "outputs": [],
   "source": [
    "fig=plt.figure(figsize=(30,18))\n",
    "\n",
    "plt.subplot(2,3,1)\n",
    "sns.heatmap(cm_log,annot=True,cmap='summer')\n",
    "plt.title('Logistic Regression')\n",
    "\n",
    "plt.subplot(2,3,2)\n",
    "sns.heatmap(cm_knn,annot=True,cmap='prism')\n",
    "plt.title('K Nearest Neighbor ')\n",
    "\n",
    "plt.subplot(2,3,3)\n",
    "sns.heatmap(cm_svm,annot=True,cmap='brg',)\n",
    "plt.title('Support Vector Machine')\n",
    "\n",
    "plt.subplot(2,3,4)\n",
    "sns.heatmap(cm_dt,annot=True,cmap='jet',)\n",
    "plt.title('Decision Tree')\n",
    "\n",
    "plt.subplot(2,3,5)\n",
    "sns.heatmap(cm_rf,annot=True,cmap='gnuplot',)\n",
    "plt.title('Random Forest Tree')\n",
    "plt.show()"
   ]
  },
  {
   "cell_type": "code",
   "execution_count": null,
   "metadata": {},
   "outputs": [],
   "source": [
    "cr_log=classification_report(y_test,y_pred_log)\n",
    "cr_knn=classification_report(y_test,y_pred_knn)\n",
    "cr_svm=classification_report(y_test,y_pred_svm)\n",
    "cr_dt=classification_report(y_test,y_pred_dt)\n",
    "cr_rf=classification_report(y_test,y_pred_rf)"
   ]
  },
  {
   "cell_type": "code",
   "execution_count": null,
   "metadata": {},
   "outputs": [],
   "source": [
    "print(\"*\"*20+'Logistic Regression'+\"*\"*20)\n",
    "print(cr_log)\n",
    "\n",
    "print(\"*\"*20+'K Nearest Neighbor'+\"*\"*20)\n",
    "print(cr_knn)\n",
    "\n",
    "print(\"*\"*20+'Support Vector Machine'+\"*\"*20)\n",
    "print(cr_svm)\n",
    "\n",
    "print(\"*\"*20+'Decision tree'+\"*\"*20)\n",
    "print(cr_dt)\n",
    "\n",
    "print(\"*\"*20+'Random Forest'+\"*\"*20)\n",
    "print(cr_rf)"
   ]
  },
  {
   "cell_type": "markdown",
   "metadata": {},
   "source": [
    "# Watson Machine Learning Deployment\n",
    "#### Work with your WML instance\n",
    "#### First, you must import client libraries."
   ]
  },
  {
   "cell_type": "code",
   "execution_count": null,
   "metadata": {},
   "outputs": [],
   "source": [
    "from watson_machine_learning_client import WatsonMachineLearningAPIClient"
   ]
  },
  {
   "cell_type": "code",
   "execution_count": null,
   "metadata": {},
   "outputs": [],
   "source": [
    "wml_credentials ={\n",
    "  \"username\": \"8ca38a68-61d6-446b-855d-5dd787f30be2\",\n",
    "  \"password\": \"e5050cc5-6071-447e-befc-7642e62ff10e\",\n",
    "  \"instance_id\": \"fc7e6a05-cdd3-465e-baac-000fe7bed127\",\n",
    "  \"url\": \"https://ibm-watson-ml.eu-gb.bluemix.net\"\n",
    "}"
   ]
  },
  {
   "cell_type": "markdown",
   "metadata": {},
   "source": [
    "Create the API client."
   ]
  },
  {
   "cell_type": "code",
   "execution_count": null,
   "metadata": {},
   "outputs": [],
   "source": [
    "client = WatsonMachineLearningAPIClient(wml_credentials)"
   ]
  },
  {
   "cell_type": "markdown",
   "metadata": {},
   "source": [
    "#### Get instance details."
   ]
  },
  {
   "cell_type": "code",
   "execution_count": null,
   "metadata": {},
   "outputs": [],
   "source": [
    "import json\n",
    "\n",
    "instance_details = client.service_instance.get_details()"
   ]
  },
  {
   "cell_type": "markdown",
   "metadata": {},
   "source": [
    "###  Save the model to the WML repository<a id=\"save\"></a>"
   ]
  },
  {
   "cell_type": "markdown",
   "metadata": {},
   "source": [
    "Define the model name, author name and email."
   ]
  },
  {
   "cell_type": "code",
   "execution_count": null,
   "metadata": {},
   "outputs": [],
   "source": [
    "published_model = client.repository.store_model(model=model_log, meta_props={'name':'Diabetes'}, \\\n",
    "                                                training_data=x_train, training_target=y_train)"
   ]
  },
  {
   "cell_type": "markdown",
   "metadata": {},
   "source": [
    "#### Get information about a specific model in the WML repository."
   ]
  },
  {
   "cell_type": "code",
   "execution_count": null,
   "metadata": {},
   "outputs": [],
   "source": [
    "published_model_uid = client.repository.get_model_uid(published_model)\n",
    "model_details = client.repository.get_details(published_model_uid)\n",
    "\n",
    "print(json.dumps(model_details, indent=2))"
   ]
  },
  {
   "cell_type": "markdown",
   "metadata": {},
   "source": [
    "#### Get information about all of the models in the WML repository."
   ]
  },
  {
   "cell_type": "code",
   "execution_count": null,
   "metadata": {},
   "outputs": [],
   "source": [
    "models_details = client.repository.list_models()"
   ]
  },
  {
   "cell_type": "markdown",
   "metadata": {},
   "source": [
    "### Load a model from the WML repository<a id=\"load\"></a>"
   ]
  },
  {
   "cell_type": "markdown",
   "metadata": {},
   "source": [
    "In this subsection you will learn how to load a saved model from a specific WML instance."
   ]
  },
  {
   "cell_type": "code",
   "execution_count": null,
   "metadata": {},
   "outputs": [],
   "source": [
    "loaded_model = client.repository.load(published_model_uid)"
   ]
  },
  {
   "cell_type": "markdown",
   "metadata": {},
   "source": [
    "Make test predictions to check that the model has been loaded correctly."
   ]
  },
  {
   "cell_type": "code",
   "execution_count": null,
   "metadata": {},
   "outputs": [],
   "source": [
    "test_predictions = loaded_model.predict(x_test[:5])"
   ]
  },
  {
   "cell_type": "code",
   "execution_count": null,
   "metadata": {},
   "outputs": [],
   "source": [
    "print(test_predictions)"
   ]
  },
  {
   "cell_type": "markdown",
   "metadata": {},
   "source": [
    "As you can see you are able to make predictions, which means that the model has loaded correctly. You have now learned how save to and load the model from the WML repository.\n",
    "\n",
    "### Delete a model from the WML repository\n",
    "The code in the following cell deletes a published model from the WML repository. The code is commented out at this stage because you still need the model for deployment."
   ]
  },
  {
   "cell_type": "markdown",
   "metadata": {},
   "source": [
    "Deploy and score data in the IBM Cloud\n",
    "Create the online deployment for the published model"
   ]
  },
  {
   "cell_type": "code",
   "execution_count": null,
   "metadata": {},
   "outputs": [],
   "source": [
    "# client.repository.delete(published_model_uid)"
   ]
  },
  {
   "cell_type": "code",
   "execution_count": null,
   "metadata": {
    "scrolled": true
   },
   "outputs": [],
   "source": [
    "#created_deployment = client.deployments.create(published_model_uid, \"Health\")"
   ]
  },
  {
   "cell_type": "code",
   "execution_count": null,
   "metadata": {},
   "outputs": [],
   "source": [
    "scoring_endpoint = client.deployments.get_scoring_url(created_deployment)\n",
    "\n",
    "print(scoring_endpoint)"
   ]
  },
  {
   "cell_type": "code",
   "execution_count": null,
   "metadata": {},
   "outputs": [],
   "source": [
    "sc.mean_"
   ]
  },
  {
   "cell_type": "code",
   "execution_count": null,
   "metadata": {},
   "outputs": [],
   "source": [
    "sc.var_"
   ]
  },
  {
   "cell_type": "code",
   "execution_count": null,
   "metadata": {},
   "outputs": [],
   "source": [
    "x_sc"
   ]
  },
  {
   "cell_type": "code",
   "execution_count": null,
   "metadata": {},
   "outputs": [],
   "source": []
  },
  {
   "cell_type": "code",
   "execution_count": null,
   "metadata": {},
   "outputs": [],
   "source": []
  },
  {
   "cell_type": "code",
   "execution_count": null,
   "metadata": {},
   "outputs": [],
   "source": []
  },
  {
   "cell_type": "code",
   "execution_count": null,
   "metadata": {},
   "outputs": [],
   "source": []
  },
  {
   "cell_type": "code",
   "execution_count": null,
   "metadata": {},
   "outputs": [],
   "source": []
  },
  {
   "cell_type": "code",
   "execution_count": null,
   "metadata": {},
   "outputs": [],
   "source": []
  },
  {
   "cell_type": "code",
   "execution_count": null,
   "metadata": {},
   "outputs": [],
   "source": []
  },
  {
   "cell_type": "code",
   "execution_count": null,
   "metadata": {},
   "outputs": [],
   "source": []
  },
  {
   "cell_type": "code",
   "execution_count": null,
   "metadata": {},
   "outputs": [],
   "source": []
  }
 ],
 "metadata": {
  "kernelspec": {
   "display_name": "Python 3",
   "language": "python",
   "name": "python3"
  },
  "language_info": {
   "codemirror_mode": {
    "name": "ipython",
    "version": 3
   },
   "file_extension": ".py",
   "mimetype": "text/x-python",
   "name": "python",
   "nbconvert_exporter": "python",
   "pygments_lexer": "ipython3",
   "version": "3.6.5"
  }
 },
 "nbformat": 4,
 "nbformat_minor": 1
}
